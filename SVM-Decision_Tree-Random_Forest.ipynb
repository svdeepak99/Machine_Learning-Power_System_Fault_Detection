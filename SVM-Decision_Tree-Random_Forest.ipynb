{
 "cells": [
  {
   "cell_type": "code",
   "execution_count": 1,
   "metadata": {},
   "outputs": [],
   "source": [
    "import pandas as pd\n",
    "import numpy as np\n",
    "from sklearn.model_selection import StratifiedShuffleSplit, cross_val_predict\n",
    "from sklearn.preprocessing import StandardScaler\n",
    "from sklearn.svm import SVC\n",
    "from sklearn.metrics import accuracy_score, confusion_matrix\n",
    "from sklearn.tree import DecisionTreeClassifier\n",
    "from sklearn.ensemble import RandomForestClassifier\n",
    "import seaborn as sns\n",
    "import matplotlib.pyplot as plt"
   ]
  },
  {
   "cell_type": "markdown",
   "metadata": {},
   "source": [
    "## A) Loading the Dataset"
   ]
  },
  {
   "cell_type": "code",
   "execution_count": 2,
   "metadata": {},
   "outputs": [],
   "source": [
    "dataset = pd.read_csv(\"powerline_dataset.csv\")\n",
    "dataset = dataset[['Output (S)', 'Ia', 'Ib', 'Ic', 'Va', 'Vb', 'Vc']] # Since there were 2 additional noisy columns in csv"
   ]
  },
  {
   "cell_type": "markdown",
   "metadata": {},
   "source": [
    "## B) Divide the dataset into training and testing sets"
   ]
  },
  {
   "cell_type": "code",
   "execution_count": 3,
   "metadata": {},
   "outputs": [],
   "source": [
    "split = StratifiedShuffleSplit(n_splits=1, test_size=0.1, random_state=42)\n",
    "\n",
    "train_index, test_index = next(split.split(dataset, dataset['Output (S)']))\n",
    "train_set, test_set = dataset.iloc[train_index], dataset.iloc[test_index]"
   ]
  },
  {
   "cell_type": "markdown",
   "metadata": {},
   "source": [
    "## C) Training an SVM classifier"
   ]
  },
  {
   "cell_type": "code",
   "execution_count": 4,
   "metadata": {},
   "outputs": [],
   "source": [
    "# Normalizing dataset before sending into SVM\n",
    "\n",
    "scaler = StandardScaler()\n",
    "scaler.fit(dataset.iloc[:, 1:])\n",
    "train, test = train_set.to_numpy(), test_set.to_numpy()\n",
    "train[:, 1:], test[:, 1:] = scaler.transform(train_set.iloc[:, 1:]), scaler.transform(test_set.iloc[:, 1:])"
   ]
  },
  {
   "cell_type": "code",
   "execution_count": 5,
   "metadata": {},
   "outputs": [
    {
     "data": {
      "text/plain": [
       "SVC(C=1000, random_state=42)"
      ]
     },
     "execution_count": 5,
     "metadata": {},
     "output_type": "execute_result"
    }
   ],
   "source": [
    "svm_clf = SVC(C=1000, kernel=\"rbf\", random_state=42)\n",
    "svm_clf.fit(train[:, 1:], train[:, 0])"
   ]
  },
  {
   "cell_type": "markdown",
   "metadata": {},
   "source": [
    "## D) Reporting the Results of SVM classifier"
   ]
  },
  {
   "cell_type": "code",
   "execution_count": 6,
   "metadata": {},
   "outputs": [
    {
     "data": {
      "image/png": "[encoded data removed]",
      "text/plain": [
       "<Figure size 432x288 with 2 Axes>"
      ]
     },
     "metadata": {
      "needs_background": "light"
     },
     "output_type": "display_data"
    }
   ],
   "source": [
    "y_pred = svm_clf.predict(test[:, 1:])\n",
    "y_test = test[:, 0]\n",
    "\n",
    "conf_mat = confusion_matrix(y_test, y_pred)\n",
    "\n",
    "lang = ['No Fault (0)', 'Fault (1)']\n",
    "ax = plt.axes()\n",
    "sns.heatmap(conf_mat, square=True, annot=True, cmap='Blues', fmt='d', cbar=True, ax=ax, xticklabels=lang, yticklabels=lang)\n",
    "ax.set_title('Confusion Matrix')\n",
    "plt.xlabel('Predicted Label')\n",
    "plt.ylabel('True Label')\n",
    "plt.show()"
   ]
  },
  {
   "cell_type": "code",
   "execution_count": 7,
   "metadata": {},
   "outputs": [
    {
     "name": "stdout",
     "output_type": "stream",
     "text": [
      "The Evaluation Metrics of the SVM Classifier (on the test set) is as follows:\n",
      "\n",
      "True Positives: 549\n",
      "True Negatives: 650\n",
      "False Positives: 1\n",
      "False Negatives: 1\n",
      "\n",
      "Precision: 0.9981818181818182\n",
      "Recall: 0.9981818181818182\n",
      "\n",
      "Accuracy: 0.9983347210657785\n"
     ]
    }
   ],
   "source": [
    "true_positive = conf_mat[1, 1]\n",
    "true_negative = conf_mat[0, 0]\n",
    "false_positive = conf_mat[0, 1]\n",
    "false_negative = conf_mat[1, 0]\n",
    "accuracy = accuracy_score(y_pred, y_test)\n",
    "\n",
    "print(\"The Evaluation Metrics of the SVM Classifier (on the test set) is as follows:\\n\")\n",
    "\n",
    "print(\"True Positives:\", true_positive)\n",
    "print(\"True Negatives:\", true_negative)\n",
    "print(\"False Positives:\", false_positive)\n",
    "print(\"False Negatives:\", false_negative, end='\\n\\n')\n",
    "\n",
    "print(\"Precision:\", true_positive/(true_positive+false_positive))\n",
    "print(\"Recall:\", true_positive/(true_positive+false_negative), end='\\n\\n')\n",
    "\n",
    "print(\"Accuracy:\", accuracy)"
   ]
  },
  {
   "cell_type": "markdown",
   "metadata": {},
   "source": [
    "## E, F) Training & Evaluating Decision Tree and Random Forest classifiers"
   ]
  },
  {
   "cell_type": "markdown",
   "metadata": {},
   "source": [
    "### (i) Decision Tree:"
   ]
  },
  {
   "cell_type": "code",
   "execution_count": 8,
   "metadata": {},
   "outputs": [
    {
     "data": {
      "text/plain": [
       "DecisionTreeClassifier(max_depth=14, random_state=42)"
      ]
     },
     "execution_count": 8,
     "metadata": {},
     "output_type": "execute_result"
    }
   ],
   "source": [
    "# Since only min_samples_leaf=1 gave the best result, Regularization was not required\n",
    "tree_clf = DecisionTreeClassifier(max_depth=14, random_state=42)\n",
    "tree_clf.fit(train_set.iloc[:, 1:], train_set.iloc[:, 0])"
   ]
  },
  {
   "cell_type": "code",
   "execution_count": 9,
   "metadata": {},
   "outputs": [
    {
     "data": {
      "image/png": "[encoded data removed]",
      "text/plain": [
       "<Figure size 432x288 with 2 Axes>"
      ]
     },
     "metadata": {
      "needs_background": "light"
     },
     "output_type": "display_data"
    }
   ],
   "source": [
    "y_pred = tree_clf.predict(test_set.iloc[:, 1:])\n",
    "\n",
    "conf_mat = confusion_matrix(y_test, y_pred)\n",
    "\n",
    "lang = ['No Fault (0)', 'Fault (1)']\n",
    "ax = plt.axes()\n",
    "sns.heatmap(conf_mat, square=True, annot=True, cmap='Blues', fmt='d', cbar=True, ax=ax, xticklabels=lang, yticklabels=lang)\n",
    "ax.set_title('Confusion Matrix')\n",
    "plt.xlabel('Predicted Label')\n",
    "plt.ylabel('True Label')\n",
    "plt.show()"
   ]
  },
  {
   "cell_type": "code",
   "execution_count": 10,
   "metadata": {},
   "outputs": [
    {
     "name": "stdout",
     "output_type": "stream",
     "text": [
      "The Evaluation Metrics of the Decision Tree Classifier (on the test set) is as follows:\n",
      "\n",
      "True Positives: 549\n",
      "True Negatives: 650\n",
      "False Positives: 1\n",
      "False Negatives: 1\n",
      "\n",
      "Precision: 0.9981818181818182\n",
      "Recall: 0.9981818181818182\n",
      "\n",
      "Accuracy: 0.9983347210657785\n"
     ]
    }
   ],
   "source": [
    "true_positive = conf_mat[1, 1]\n",
    "true_negative = conf_mat[0, 0]\n",
    "false_positive = conf_mat[0, 1]\n",
    "false_negative = conf_mat[1, 0]\n",
    "accuracy = accuracy_score(y_pred, y_test)\n",
    "\n",
    "print(\"The Evaluation Metrics of the Decision Tree Classifier (on the test set) is as follows:\\n\")\n",
    "\n",
    "print(\"True Positives:\", true_positive)\n",
    "print(\"True Negatives:\", true_negative)\n",
    "print(\"False Positives:\", false_positive)\n",
    "print(\"False Negatives:\", false_negative, end='\\n\\n')\n",
    "\n",
    "print(\"Precision:\", true_positive/(true_positive+false_positive))\n",
    "print(\"Recall:\", true_positive/(true_positive+false_negative), end='\\n\\n')\n",
    "\n",
    "print(\"Accuracy:\", accuracy)"
   ]
  },
  {
   "cell_type": "markdown",
   "metadata": {},
   "source": [
    "### (ii) Random Forest:"
   ]
  },
  {
   "cell_type": "code",
   "execution_count": 11,
   "metadata": {},
   "outputs": [
    {
     "data": {
      "text/plain": [
       "RandomForestClassifier(n_estimators=162, random_state=42)"
      ]
     },
     "execution_count": 11,
     "metadata": {},
     "output_type": "execute_result"
    }
   ],
   "source": [
    "forest_clf = RandomForestClassifier(n_estimators=162, random_state=42)\n",
    "forest_clf.fit(train_set.iloc[:, 1:], train_set.iloc[:, 0])"
   ]
  },
  {
   "cell_type": "code",
   "execution_count": 12,
   "metadata": {},
   "outputs": [
    {
     "data": {
      "image/png": "[encoded data removed]",
      "text/plain": [
       "<Figure size 432x288 with 2 Axes>"
      ]
     },
     "metadata": {
      "needs_background": "light"
     },
     "output_type": "display_data"
    }
   ],
   "source": [
    "y_pred = forest_clf.predict(test_set.iloc[:, 1:])\n",
    "\n",
    "conf_mat = confusion_matrix(y_test, y_pred)\n",
    "\n",
    "lang = ['No Fault (0)', 'Fault (1)']\n",
    "ax = plt.axes()\n",
    "sns.heatmap(conf_mat, square=True, annot=True, cmap='Blues', fmt='d', cbar=True, ax=ax, xticklabels=lang, yticklabels=lang)\n",
    "ax.set_title('Confusion Matrix')\n",
    "plt.xlabel('Predicted Label')\n",
    "plt.ylabel('True Label')\n",
    "plt.show()"
   ]
  },
  {
   "cell_type": "code",
   "execution_count": 13,
   "metadata": {},
   "outputs": [
    {
     "name": "stdout",
     "output_type": "stream",
     "text": [
      "The Evaluation Metrics of the Random Forest Classifier (on the test set) is as follows:\n",
      "\n",
      "True Positives: 549\n",
      "True Negatives: 650\n",
      "False Positives: 1\n",
      "False Negatives: 1\n",
      "\n",
      "Precision: 0.9981818181818182\n",
      "Recall: 0.9981818181818182\n",
      "\n",
      "Accuracy: 0.9983347210657785\n"
     ]
    }
   ],
   "source": [
    "true_positive = conf_mat[1, 1]\n",
    "true_negative = conf_mat[0, 0]\n",
    "false_positive = conf_mat[0, 1]\n",
    "false_negative = conf_mat[1, 0]\n",
    "accuracy = accuracy_score(y_pred, y_test)\n",
    "\n",
    "print(\"The Evaluation Metrics of the Random Forest Classifier (on the test set) is as follows:\\n\")\n",
    "\n",
    "print(\"True Positives:\", true_positive)\n",
    "print(\"True Negatives:\", true_negative)\n",
    "print(\"False Positives:\", false_positive)\n",
    "print(\"False Negatives:\", false_negative, end='\\n\\n')\n",
    "\n",
    "print(\"Precision:\", true_positive/(true_positive+false_positive))\n",
    "print(\"Recall:\", true_positive/(true_positive+false_negative), end='\\n\\n')\n",
    "\n",
    "print(\"Accuracy:\", accuracy)"
   ]
  },
  {
   "cell_type": "markdown",
   "metadata": {},
   "source": [
    "## G) Final Comparison\n",
    "<br><br>\n",
    "The observation is that all 3 models when **well tuned** gives the **exact same result**.<br>\n",
    "Their accuracy, precision, recall and all parameters are same are over 99.8%.<br><br>\n",
    "\n",
    "The probable reasons for this are as follows:<br>\n",
    "1) The given dataset is well balanced, and has less noises.<br>\n",
    "2) The \"StratifiedShuffleSplit\" function of sklearn made sure that the classes are split evenly among the training anf testing set, further promoting the balance.<br><br>\n",
    "\n",
    "The following tuning were done on each model:<br>\n",
    "1) The SVM classifier performed poorly when linear, polynomial and SGD kernels were used giving an accuracy of only around 40% to 70%. But however when the \"rbf\" kernel was used and the regularization parameter 'C' was set to 1000% the accuracy improved to more than 99.8%.<br>\n",
    "2) The Decision Tree which was expected to give the least accuracy surprisingly gave the best result, since the correlation between the attributes in the dataset was simple and pretty consistent. It is to be noted here that, there seemed to be no overfitting in the data, since increasing the 'min_samples_leaf' parameter to value over 1, actually cause the accuracy of the test set to reduce instead of increasing. And the best result was achieved either by setting min_samples_leaf=1 or max_depth=14 or above.<br>\n",
    "3) The Random Forest method gave the best accuracy when 'n_estimators' was set at a value of 162 or above. The accuracy readuced when 'n_estimators' was set at a lower value.<br><br>\n",
    "\n",
    "Hence my take on the best classifier is as follows:<br>\n",
    "1) For this given simple dataset, \"Decision Tree\" is the best because it has the least time complexity for training compared to the other 2 methods, and gives the same accuracy as the other 2, without even requiring the dataset to be normalized.<br>\n",
    "2) But for a lot of conventinal datasets, when noise in dataset is present, or when the dataset is not well balanced, but not too complex, Random Forest may give a better performance.<br>\n",
    "3) When the dataset is noisy and is complex, SVM with a proper regularization constant, and \"rbf\" kernel may give the best result."
   ]
  }
 ],
 "metadata": {
  "kernelspec": {
   "display_name": "Python 3",
   "language": "python",
   "name": "python3"
  },
  "language_info": {
   "codemirror_mode": {
    "name": "ipython",
    "version": 3
   },
   "file_extension": ".py",
   "mimetype": "text/x-python",
   "name": "python",
   "nbconvert_exporter": "python",
   "pygments_lexer": "ipython3",
   "version": "3.8.5"
  }
 },
 "nbformat": 4,
 "nbformat_minor": 4
}
