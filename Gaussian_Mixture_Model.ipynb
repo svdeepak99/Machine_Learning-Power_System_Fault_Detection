{
 "cells": [
  {
   "cell_type": "markdown",
   "metadata": {},
   "source": [
    "# 1) Loading datasets & splitting normal conditions into train & test"
   ]
  },
  {
   "cell_type": "code",
   "execution_count": 283,
   "metadata": {},
   "outputs": [],
   "source": [
    "import numpy as np\n",
    "from sklearn.model_selection import train_test_split\n",
    "\n",
    "normal = np.genfromtxt('HW3 datasets/powerline_normal.csv', delimiter=',', dtype=np.float_)[1:, 1:]\n",
    "anomalous = np.genfromtxt('HW3 datasets/powerline_anomaly.csv', delimiter=',', dtype=np.float_)[1:, 1:]\n",
    "\n",
    "train, test = train_test_split(normal, test_size=0.2, random_state=42)"
   ]
  },
  {
   "cell_type": "markdown",
   "metadata": {},
   "source": [
    "# 2) Combining test dataset with anomalous conditions dataset"
   ]
  },
  {
   "cell_type": "code",
   "execution_count": 284,
   "metadata": {},
   "outputs": [],
   "source": [
    "labels = np.array([0]*len(test)+[1]*len(anomalous), dtype=np.float_)\n",
    "test = np.concatenate((test, anomalous), axis=0)"
   ]
  },
  {
   "cell_type": "markdown",
   "metadata": {},
   "source": [
    "# 3) Train a Gaussian Mixture model on training dataset"
   ]
  },
  {
   "cell_type": "code",
   "execution_count": 285,
   "metadata": {},
   "outputs": [],
   "source": [
    "from sklearn.mixture import GaussianMixture\n",
    "from sklearn.preprocessing import StandardScaler\n",
    "\n",
    "sc = StandardScaler().fit(train)\n",
    "gm = GaussianMixture(n_components=5, random_state=0).fit(sc.transform(train))"
   ]
  },
  {
   "cell_type": "markdown",
   "metadata": {},
   "source": [
    "# 4) Use the trained model to classify test set"
   ]
  },
  {
   "cell_type": "code",
   "execution_count": 286,
   "metadata": {},
   "outputs": [],
   "source": [
    "from scipy.stats import norm\n",
    "\n",
    "test_gm = gm.score_samples(sc.transform(test))\n",
    "\n",
    "test_exp = np.exp(test_gm).reshape(-1, 1)\n",
    "test_norm = StandardScaler().fit_transform(test_exp).reshape(-1)\n",
    "z_thresh = -norm.ppf(0.05)   # 5% density threshold\n",
    "\n",
    "test_pred = test_exp < z_thresh"
   ]
  },
  {
   "cell_type": "markdown",
   "metadata": {},
   "source": [
    "# 5) Reporting the Results of the model"
   ]
  },
  {
   "cell_type": "code",
   "execution_count": 287,
   "metadata": {},
   "outputs": [
    {
     "data": {
      "image/png": "[encoded data removed]",
      "text/plain": [
       "<Figure size 432x288 with 2 Axes>"
      ]
     },
     "metadata": {
      "needs_background": "light"
     },
     "output_type": "display_data"
    }
   ],
   "source": [
    "import seaborn as sns\n",
    "import matplotlib.pyplot as plt\n",
    "from sklearn.metrics import accuracy_score, confusion_matrix\n",
    "\n",
    "y_pred = test_pred\n",
    "y_test = labels\n",
    "\n",
    "conf_mat = confusion_matrix(y_test, y_pred)\n",
    "\n",
    "lang = ['No Fault (0)', 'Fault (1)']\n",
    "ax = plt.axes()\n",
    "sns.heatmap(conf_mat, square=True, annot=True, cmap='Blues', fmt='d', cbar=True, ax=ax, xticklabels=lang, yticklabels=lang)\n",
    "ax.set_title('Confusion Matrix')\n",
    "plt.xlabel('Predicted Label')\n",
    "plt.ylabel('True Label')\n",
    "plt.show()"
   ]
  },
  {
   "cell_type": "code",
   "execution_count": 288,
   "metadata": {},
   "outputs": [
    {
     "name": "stdout",
     "output_type": "stream",
     "text": [
      "The Evaluation Metrics of the Gaussian Mixture model with 5 components & 5% density threshold (on the test set) is as follows:\n",
      "\n",
      "True Positives: 5492\n",
      "True Negatives: 1272\n",
      "False Positives: 29\n",
      "False Negatives: 4\n",
      "\n",
      "Precision: 0.9947473283825394\n",
      "Recall: 0.9992721979621543\n",
      "\n",
      "Accuracy: 0.995144916875092\n"
     ]
    }
   ],
   "source": [
    "true_positive = conf_mat[1, 1]\n",
    "true_negative = conf_mat[0, 0]\n",
    "false_positive = conf_mat[0, 1]\n",
    "false_negative = conf_mat[1, 0]\n",
    "accuracy = accuracy_score(y_pred, y_test)\n",
    "\n",
    "print(\"The Evaluation Metrics of the Gaussian Mixture model with 5 components & 5% density threshold (on the test set) is as follows:\\n\")\n",
    "\n",
    "print(\"True Positives:\", true_positive)\n",
    "print(\"True Negatives:\", true_negative)\n",
    "print(\"False Positives:\", false_positive)\n",
    "print(\"False Negatives:\", false_negative, end='\\n\\n')\n",
    "\n",
    "print(\"Precision:\", true_positive/(true_positive+false_positive))\n",
    "print(\"Recall:\", true_positive/(true_positive+false_negative), end='\\n\\n')\n",
    "\n",
    "print(\"Accuracy:\", accuracy)"
   ]
  },
  {
   "cell_type": "markdown",
   "metadata": {},
   "source": [
    "# 6) Performing Grid Search on no. of components & density threshold"
   ]
  },
  {
   "cell_type": "code",
   "execution_count": 289,
   "metadata": {},
   "outputs": [],
   "source": [
    "sc = StandardScaler()\n",
    "norm_train = sc.fit_transform(train)\n",
    "norm_test = sc.transform(test)\n",
    "\n",
    "def evaluate_model(n_components, thresh, norm_train, norm_test, test_labels):\n",
    "    gm = GaussianMixture(n_components=n_components, random_state=0).fit(norm_train)\n",
    "    test_gm = gm.score_samples(norm_test)\n",
    "    \n",
    "    test_exp = np.exp(test_gm).reshape(-1, 1)\n",
    "    test_norm = StandardScaler().fit_transform(test_exp).reshape(-1)\n",
    "    z_thresh = -norm.ppf(thresh)\n",
    "    test_pred = test_exp < z_thresh\n",
    "    \n",
    "    return accuracy_score(test_pred, test_labels), test_pred"
   ]
  },
  {
   "cell_type": "code",
   "execution_count": 290,
   "metadata": {},
   "outputs": [
    {
     "name": "stdout",
     "output_type": "stream",
     "text": [
      "Accuracy Table (Row: n_components | Col: threshold):\n"
     ]
    },
    {
     "data": {
      "text/html": [
       "<div>\n",
       "<style scoped>\n",
       "    .dataframe tbody tr th:only-of-type {\n",
       "        vertical-align: middle;\n",
       "    }\n",
       "\n",
       "    .dataframe tbody tr th {\n",
       "        vertical-align: top;\n",
       "    }\n",
       "\n",
       "    .dataframe thead th {\n",
       "        text-align: right;\n",
       "    }\n",
       "</style>\n",
       "<table border=\"1\" class=\"dataframe\">\n",
       "  <thead>\n",
       "    <tr style=\"text-align: right;\">\n",
       "      <th></th>\n",
       "      <th>0.1%</th>\n",
       "      <th>0.5%</th>\n",
       "      <th>1%</th>\n",
       "      <th>2%</th>\n",
       "      <th>5%</th>\n",
       "      <th>50%</th>\n",
       "    </tr>\n",
       "  </thead>\n",
       "  <tbody>\n",
       "    <tr>\n",
       "      <th>1</th>\n",
       "      <td>0.8086</td>\n",
       "      <td>0.9954</td>\n",
       "      <td>0.9954</td>\n",
       "      <td>0.9954</td>\n",
       "      <td>0.9951</td>\n",
       "      <td>0.1914</td>\n",
       "    </tr>\n",
       "    <tr>\n",
       "      <th>2</th>\n",
       "      <td>0.8086</td>\n",
       "      <td>0.9954</td>\n",
       "      <td>0.9954</td>\n",
       "      <td>0.9954</td>\n",
       "      <td>0.9951</td>\n",
       "      <td>0.1914</td>\n",
       "    </tr>\n",
       "    <tr>\n",
       "      <th>3</th>\n",
       "      <td>0.8086</td>\n",
       "      <td>0.9954</td>\n",
       "      <td>0.9954</td>\n",
       "      <td>0.9954</td>\n",
       "      <td>0.9951</td>\n",
       "      <td>0.1914</td>\n",
       "    </tr>\n",
       "    <tr>\n",
       "      <th>4</th>\n",
       "      <td>0.8086</td>\n",
       "      <td>0.9954</td>\n",
       "      <td>0.9954</td>\n",
       "      <td>0.9954</td>\n",
       "      <td>0.9951</td>\n",
       "      <td>0.1914</td>\n",
       "    </tr>\n",
       "    <tr>\n",
       "      <th>5</th>\n",
       "      <td>0.8086</td>\n",
       "      <td>0.9954</td>\n",
       "      <td>0.9954</td>\n",
       "      <td>0.9954</td>\n",
       "      <td>0.9951</td>\n",
       "      <td>0.1914</td>\n",
       "    </tr>\n",
       "    <tr>\n",
       "      <th>6</th>\n",
       "      <td>0.8086</td>\n",
       "      <td>0.9954</td>\n",
       "      <td>0.9954</td>\n",
       "      <td>0.9954</td>\n",
       "      <td>0.9951</td>\n",
       "      <td>0.1914</td>\n",
       "    </tr>\n",
       "    <tr>\n",
       "      <th>7</th>\n",
       "      <td>0.8086</td>\n",
       "      <td>0.9954</td>\n",
       "      <td>0.9954</td>\n",
       "      <td>0.9954</td>\n",
       "      <td>0.9951</td>\n",
       "      <td>0.1914</td>\n",
       "    </tr>\n",
       "    <tr>\n",
       "      <th>8</th>\n",
       "      <td>0.8086</td>\n",
       "      <td>0.9954</td>\n",
       "      <td>0.9954</td>\n",
       "      <td>0.9954</td>\n",
       "      <td>0.9951</td>\n",
       "      <td>0.1914</td>\n",
       "    </tr>\n",
       "    <tr>\n",
       "      <th>9</th>\n",
       "      <td>0.8086</td>\n",
       "      <td>0.9954</td>\n",
       "      <td>0.9954</td>\n",
       "      <td>0.9954</td>\n",
       "      <td>0.9951</td>\n",
       "      <td>0.1914</td>\n",
       "    </tr>\n",
       "    <tr>\n",
       "      <th>10</th>\n",
       "      <td>0.8086</td>\n",
       "      <td>0.9954</td>\n",
       "      <td>0.9954</td>\n",
       "      <td>0.9954</td>\n",
       "      <td>0.9951</td>\n",
       "      <td>0.1914</td>\n",
       "    </tr>\n",
       "  </tbody>\n",
       "</table>\n",
       "</div>"
      ],
      "text/plain": [
       "      0.1%    0.5%      1%      2%      5%     50%\n",
       "1   0.8086  0.9954  0.9954  0.9954  0.9951  0.1914\n",
       "2   0.8086  0.9954  0.9954  0.9954  0.9951  0.1914\n",
       "3   0.8086  0.9954  0.9954  0.9954  0.9951  0.1914\n",
       "4   0.8086  0.9954  0.9954  0.9954  0.9951  0.1914\n",
       "5   0.8086  0.9954  0.9954  0.9954  0.9951  0.1914\n",
       "6   0.8086  0.9954  0.9954  0.9954  0.9951  0.1914\n",
       "7   0.8086  0.9954  0.9954  0.9954  0.9951  0.1914\n",
       "8   0.8086  0.9954  0.9954  0.9954  0.9951  0.1914\n",
       "9   0.8086  0.9954  0.9954  0.9954  0.9951  0.1914\n",
       "10  0.8086  0.9954  0.9954  0.9954  0.9951  0.1914"
      ]
     },
     "execution_count": 290,
     "metadata": {},
     "output_type": "execute_result"
    }
   ],
   "source": [
    "# Perfroming Grid Search & Finding best model\n",
    "import pandas as pd\n",
    "\n",
    "accuracy_table = []\n",
    "best_accuracy = 0\n",
    "best_ncomp = -1\n",
    "best_thresh = -1\n",
    "best_pred = []\n",
    "\n",
    "for n_comp in range(1, 11):\n",
    "    accuracy_table.append([])\n",
    "    for thresh in [0.001, 0.005, 0.01, 0.02, 0.05, 0.5]:\n",
    "        thresh = round(thresh, 2)\n",
    "        accuracy, pred = evaluate_model(5, thresh, norm_train, norm_test, labels)\n",
    "        \n",
    "        if accuracy > best_accuracy:\n",
    "            best_accuracy = accuracy\n",
    "            best_pred = pred\n",
    "            best_ncomp = n_comp\n",
    "            best_thresh = thresh\n",
    "        \n",
    "        accuracy_table[-1].append(round(accuracy, 4))\n",
    "\n",
    "accuracy_table = pd.DataFrame(accuracy_table, columns=['0.1%', '0.5%', '1%', '2%', '5%', '50%'], index=range(1, 11))\n",
    "\n",
    "print(\"Accuracy Table (Row: n_components | Col: threshold):\")\n",
    "accuracy_table.head(10)"
   ]
  },
  {
   "cell_type": "markdown",
   "metadata": {},
   "source": [
    "# 7) Finding and Evaluating the Best Model:"
   ]
  },
  {
   "cell_type": "code",
   "execution_count": 291,
   "metadata": {},
   "outputs": [
    {
     "name": "stdout",
     "output_type": "stream",
     "text": [
      "The Best accuracy was obtained with the following configuration:\n",
      "No. of Components: 1\n",
      "Density Threshold: 1.0 %\n",
      "Accuracy: 0.9954391643372076\n"
     ]
    }
   ],
   "source": [
    "print(\"The Best accuracy was obtained with the following configuration:\")\n",
    "print(\"No. of Components:\", best_ncomp)\n",
    "print(\"Density Threshold:\", best_thresh*100, \"%\")\n",
    "print(\"Accuracy:\", best_accuracy)"
   ]
  },
  {
   "cell_type": "code",
   "execution_count": 292,
   "metadata": {},
   "outputs": [
    {
     "name": "stdout",
     "output_type": "stream",
     "text": [
      "The Evaluation of the Best Model is as follows:\n"
     ]
    },
    {
     "data": {
      "image/png": "[encoded data removed]",
      "text/plain": [
       "<Figure size 432x288 with 2 Axes>"
      ]
     },
     "metadata": {
      "needs_background": "light"
     },
     "output_type": "display_data"
    }
   ],
   "source": [
    "print(\"The Evaluation of the Best Model is as follows:\")\n",
    "y_pred = best_pred\n",
    "\n",
    "conf_mat = confusion_matrix(y_test, y_pred)\n",
    "\n",
    "lang = ['No Fault (0)', 'Fault (1)']\n",
    "ax = plt.axes()\n",
    "sns.heatmap(conf_mat, square=True, annot=True, cmap='Blues', fmt='d', cbar=True, ax=ax, xticklabels=lang, yticklabels=lang)\n",
    "ax.set_title('Confusion Matrix')\n",
    "plt.xlabel('Predicted Label')\n",
    "plt.ylabel('True Label')\n",
    "plt.show()"
   ]
  },
  {
   "cell_type": "code",
   "execution_count": 293,
   "metadata": {},
   "outputs": [
    {
     "name": "stdout",
     "output_type": "stream",
     "text": [
      "The Evaluation Metrics of the Gaussian Mixture model with the Best Configuration (on the test set) is as follows:\n",
      "\n",
      "True Positives: 5494\n",
      "True Negatives: 1272\n",
      "False Positives: 29\n",
      "False Negatives: 2\n",
      "\n",
      "Precision: 0.9947492304906753\n",
      "Recall: 0.9996360989810772\n",
      "\n",
      "Accuracy: 0.9954391643372076\n"
     ]
    }
   ],
   "source": [
    "true_positive = conf_mat[1, 1]\n",
    "true_negative = conf_mat[0, 0]\n",
    "false_positive = conf_mat[0, 1]\n",
    "false_negative = conf_mat[1, 0]\n",
    "accuracy = accuracy_score(y_pred, y_test)\n",
    "\n",
    "print(\"The Evaluation Metrics of the Gaussian Mixture model with the Best Configuration (on the test set) is as follows:\\n\")\n",
    "\n",
    "print(\"True Positives:\", true_positive)\n",
    "print(\"True Negatives:\", true_negative)\n",
    "print(\"False Positives:\", false_positive)\n",
    "print(\"False Negatives:\", false_negative, end='\\n\\n')\n",
    "\n",
    "print(\"Precision:\", true_positive/(true_positive+false_positive))\n",
    "print(\"Recall:\", true_positive/(true_positive+false_negative), end='\\n\\n')\n",
    "\n",
    "print(\"Accuracy:\", accuracy)"
   ]
  },
  {
   "cell_type": "markdown",
   "metadata": {},
   "source": [
    "# Inference:\n",
    "\n",
    "The following are the points to be noted about the choice of the best model:<br>\n",
    "- The best model was chosen based on the accuracy of it's classification on the test set.<br>\n",
    "- The best model was found to be using a single gaussian distribution with 1% as the density threshold, giving an outstanding accuracy of 99.54%.<br>\n",
    "- It is to be noted that, the accuracy is so high, possibly since, there is a huge variance between the attributes of the attributes (readings) when a Fault was present vs No Fault.<br>\n",
    "- In fact, due to this huge variance there isn't a huge difference between the accuracy of models when the threshold was changes between 0.5% to 5%, and it did not change too much with respect to the number of components too.<br>\n",
    "- But however when a huge change in the threshold was made, such as 50%, then the accuracy drastically dropped to less than 20%. This suggests that a huge amount of anomalous data was clustered together, yet far away from the normal data.<br>\n",
    "- So finally the best model (although it didn't have a huge difference compared to the close runner ups), was found to have a better precision, recall values, with just 2 false negatives in the 5% threshold with n_comp=5 model, being correctly classified as true negatives, causing it to be chosen as the best model of all."
   ]
  }
 ],
 "metadata": {
  "kernelspec": {
   "display_name": "Python 3",
   "language": "python",
   "name": "python3"
  },
  "language_info": {
   "codemirror_mode": {
    "name": "ipython",
    "version": 3
   },
   "file_extension": ".py",
   "mimetype": "text/x-python",
   "name": "python",
   "nbconvert_exporter": "python",
   "pygments_lexer": "ipython3",
   "version": "3.8.5"
  }
 },
 "nbformat": 4,
 "nbformat_minor": 4
}
